{
 "cells": [
  {
   "cell_type": "code",
   "execution_count": 45,
   "metadata": {},
   "outputs": [
    {
     "name": "stdout",
     "output_type": "stream",
     "text": [
      "64\n"
     ]
    }
   ],
   "source": [
    "import urllib\n",
    "import html2text\n",
    "from bs4 import BeautifulSoup,NavigableString\n",
    "soup = BeautifulSoup( urllib.request.urlopen('https://www.lamiafinanza.it/2019/07/assiteca-spa-acquisisce-l-80-di-assita-spa/').read())\n",
    "\n",
    "#print(soup.prettify()) # rende html più leggibile\n",
    "\n",
    "#print(soup.get_text()) #estrae solo il testo\n",
    "#div = soup.find(\"div\",attrs={\"class\":\"article-content\"})\n",
    "#print(div.text.strip())\n",
    "\n",
    "print(len(soup.find_all('div')))\n",
    "\n",
    "#f=soup.find_all('div')\n",
    "#print(f[0].find_all('div'))\n",
    "\n"
   ]
  },
  {
   "cell_type": "code",
   "execution_count": 52,
   "metadata": {},
   "outputs": [
    {
     "name": "stdout",
     "output_type": "stream",
     "text": [
      "<p>ASSITECA S.p.A., il più grande broker assicurativo italiano indipendente quotato al mercato AIM di Borsa Italiana, ha sottoscritto in data 30 luglio 2019 un contratto per l’acquisto dell’80% del capitale azionario di ASSITA S.p.A. Programmi Assicurativi Professionali Integrati.</p>\n",
      "ASSITECA S.p.A., il più grande broker assicurativo italiano indipendente quotato al mercato AIM di Borsa Italiana, ha sottoscritto in data 30 luglio 2019 un contratto per l’acquisto dell’80% del capitale azionario di ASSITA S.p.A. Programmi Assicurativi Professionali Integrati.\n",
      "\n",
      "<p>ASSITA S.p.A. è un’agenzia plurimandataria leader nell’assicurazione di Responsabilità Civile Professionale e principale intermediario assicurativo di riferimento per Liberi Professionisti quali Medici, Avvocati, Commercialisti, Ingegneri e relativi Ordini, Associazioni, Sindacati e Società Scientifiche.</p>\n",
      "ASSITA S.p.A. è un’agenzia plurimandataria leader nell’assicurazione di Responsabilità Civile Professionale e principale intermediario assicurativo di riferimento per Liberi Professionisti quali Medici, Avvocati, Commercialisti, Ingegneri e relativi Ordini, Associazioni, Sindacati e Società Scientifiche.\n",
      "\n",
      "<p>Costituita a Milano nel 1981 da Enrico Bassi, assicuratore che per primo intuì la necessità di estendere il mercato assicurativo italiano anche alla R.C. Professionale, ASSITA è ora diretta dalla moglie Daniela Bernuzzi Bassi che manterrà il 20% dell’azionariato e sarà Presidente del nuovo Consiglio di Amministrazione della società.</p>\n",
      "Costituita a Milano nel 1981 da Enrico Bassi, assicuratore che per primo intuì la necessità di estendere il mercato assicurativo italiano anche alla R.C. Professionale, ASSITA è ora diretta dalla moglie Daniela Bernuzzi Bassi che manterrà il 20% dell’azionariato e sarà Presidente del nuovo Consiglio di Amministrazione della società.\n",
      "\n",
      "<p>ASSITA, che ha una sede secondaria a Roma, ha chiuso l’esercizio al 31 dicembre 2018 con ricavi pari a circa Euro 2,2 milioni e un EBITDA di circa Euro 220 mila.</p>\n",
      "ASSITA, che ha una sede secondaria a Roma, ha chiuso l’esercizio al 31 dicembre 2018 con ricavi pari a circa Euro 2,2 milioni e un EBITDA di circa Euro 220 mila.\n",
      "\n",
      "<p>“L’acquisizione di ASSITA S.p.A.” dichiara il Presidente di ASSITECA Luciano Lucca “rientra nella strategia di crescita per linee esterne di ASSITECA volta al rafforzamento delle competenze e dell’offerta di prodotti e servizi in settori specialistici, quali appunto quello della R.C. Professionale, ramo assicurativo che negli ultimi anni, anche a seguito di aggiornamenti normativi che per alcuni ordini hanno previsto l’obbligo di assicurazione, ha conosciuto un importante sviluppo”.</p>\n",
      "“L’acquisizione di ASSITA S.p.A.” dichiara il Presidente di ASSITECA Luciano Lucca “rientra nella strategia di crescita per linee esterne di ASSITECA volta al rafforzamento delle competenze e dell’offerta di prodotti e servizi in settori specialistici, quali appunto quello della R.C. Professionale, ramo assicurativo che negli ultimi anni, anche a seguito di aggiornamenti normativi che per alcuni ordini hanno previsto l’obbligo di assicurazione, ha conosciuto un importante sviluppo”.\n",
      "\n",
      "<p>Il prezzo dell’operazione è stato convenuto in Euro 2,8 milioni che saranno corrisposti in due tranche di pari importo, la prima alla firma dell’accordo, la seconda all’approvazione del bilancio al 31 dicembre 2019 di ASSITA. L’operazione è stata finanziata attraverso l’utilizzo di mezzi propri.</p>\n",
      "Il prezzo dell’operazione è stato convenuto in Euro 2,8 milioni che saranno corrisposti in due tranche di pari importo, la prima alla firma dell’accordo, la seconda all’approvazione del bilancio al 31 dicembre 2019 di ASSITA. L’operazione è stata finanziata attraverso l’utilizzo di mezzi propri.\n",
      "\n",
      "<p>“Sono orgogliosa di entrare a far parte del Gruppo ASSITECA” commenta Daniela Bernuzzi Bassi, Presidente di ASSITA “che non solo darà continuità ad ASSITA, ma supporterà un’ulteriore evoluzione del nostro modello di business”.</p>\n",
      "“Sono orgogliosa di entrare a far parte del Gruppo ASSITECA” commenta Daniela Bernuzzi Bassi, Presidente di ASSITA “che non solo darà continuità ad ASSITA, ma supporterà un’ulteriore evoluzione del nostro modello di business”.\n",
      "\n",
      "<p><span class=\"Testo\"><span style=\"font-size: 10px;\"><em>Il contenuto di questo testo (come di tutta la sezione “Comunicati Stampa”) non impegna la redazione de </em>Lamiafinanza<em>: la responsabilità dei comunicati stampa e delle informazioni in essi contenute è esclusivamente delle aziende, enti e associazioni che li firmano e che sono chiaramente indicati nel titolo del testo.</em></span> </span></p>\n",
      "Il contenuto di questo testo (come di tutta la sezione “Comunicati Stampa”) non impegna la redazione de Lamiafinanza: la responsabilità dei comunicati stampa e delle informazioni in essi contenute è esclusivamente delle aziende, enti e associazioni che li firmano e che sono chiaramente indicati nel titolo del testo.\n",
      "\n",
      "<p class=\"h5 author-name\">\n",
      "Autore: <a href=\"https://www.lamiafinanza.it/author/lmf/\" rel=\"author\" title=\"Articoli scritti da LMF LaMiaFinanza\">LMF LaMiaFinanza</a></p>\n",
      "Autore: LMF LaMiaFinanza\n",
      "\n"
     ]
    }
   ],
   "source": [
    "'''\n",
    "def dividi_div(f,numero):\n",
    "    #print(numero)\n",
    "    if numero > 1 and f != []:\n",
    "        for i in range(numero):\n",
    "            print(\"div numero: \",i, \"di: \",numero)\n",
    "            div = f[i].find_all(\"div\")\n",
    "            dividi_div(div,len(div))\n",
    "            \n",
    "    else:\n",
    "        if f != []:\n",
    "            print(\"*************\")\n",
    "            print(f)\n",
    "            print(\"*************\")\n",
    "        return\n",
    "\n",
    "            \n",
    "'''\n",
    "result =[]\n",
    "if __name__== \"__main__\":\n",
    "    #dividi_div(soup.find_all(\"div\"),len(soup.find_all(\"div\")))\n",
    "    divs =soup.find_all(\"p\")\n",
    "    for div in divs:\n",
    "        check =False\n",
    "        if \"ASSITECA\" in div.text.strip():\n",
    "            check = True   \n",
    "        elif \"Assiteca\" in div.text.strip():\n",
    "            check = True \n",
    "        elif \"assiteca\" in div.text.strip():\n",
    "            check = True \n",
    "        else:\n",
    "            check = False\n",
    "        #if \"ASSITECA\" or \"Assiteca\" or \"assiteca\" in div.text.strip():\n",
    "        if check == True:\n",
    "            print(div)\n",
    "            print(div.text.strip())\n",
    "            print()\n",
    "    '''\n",
    "    divs =soup.find_all(\"h1\")\n",
    "    for div in divs:\n",
    "        if \"ASSITECA\" or \"Assiteca\" or \"assiteca\" in div.text.strip():\n",
    "            print(div)\n",
    "            print()\n",
    "    divs =soup.find_all(\"h2\")\n",
    "    for div in divs:\n",
    "        for s in div.select('a'):\n",
    "            s.extract()\n",
    "        if \"ASSITECA\" or \"Assiteca\" or \"assiteca\" in s.text.strip():\n",
    "            print(div)\n",
    "            print()\n",
    "    \n",
    "    divs =soup.find_all(\"span\")\n",
    "    for div in divs:\n",
    "        if \"ASSITECA\" or \"Assiteca\" or \"assiteca\" in div.text.strip():\n",
    "            print(div.text.strip())\n",
    "            print()\n",
    "    '''\n",
    "    "
   ]
  },
  {
   "cell_type": "code",
   "execution_count": 68,
   "metadata": {},
   "outputs": [
    {
     "name": "stdout",
     "output_type": "stream",
     "text": [
      "presente\n"
     ]
    }
   ],
   "source": [
    "f = \" Aassiteca è una gran bella societa\"\n",
    "\n",
    "if \"ASSITECA\" in f:\n",
    "     print(\"presente\")   \n",
    "elif \"Assiteca\" in f:\n",
    "     print(\"presente\")\n",
    "elif \"assiteca\" in f:\n",
    "    print(\"presente\")\n",
    "else:\n",
    "    print(\"non presente\")"
   ]
  },
  {
   "cell_type": "code",
   "execution_count": null,
   "metadata": {},
   "outputs": [],
   "source": []
  },
  {
   "cell_type": "code",
   "execution_count": null,
   "metadata": {},
   "outputs": [],
   "source": []
  }
 ],
 "metadata": {
  "kernelspec": {
   "display_name": "Python 3",
   "language": "python",
   "name": "python3"
  },
  "language_info": {
   "codemirror_mode": {
    "name": "ipython",
    "version": 3
   },
   "file_extension": ".py",
   "mimetype": "text/x-python",
   "name": "python",
   "nbconvert_exporter": "python",
   "pygments_lexer": "ipython3",
   "version": "3.8.5"
  }
 },
 "nbformat": 4,
 "nbformat_minor": 4
}
