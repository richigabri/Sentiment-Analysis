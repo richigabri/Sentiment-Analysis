{
 "cells": [
  {
   "cell_type": "code",
   "execution_count": 3,
   "metadata": {},
   "outputs": [
    {
     "name": "stdout",
     "output_type": "stream",
     "text": [
      "Requirement already satisfied: facebook-sdk in /home/riccardo/Scrivania/envfacebook/lib/python3.8/site-packages (3.1.0)\n",
      "Requirement already satisfied: requests in /home/riccardo/Scrivania/envfacebook/lib/python3.8/site-packages (from facebook-sdk) (2.24.0)\n",
      "Requirement already satisfied: urllib3!=1.25.0,!=1.25.1,<1.26,>=1.21.1 in /home/riccardo/Scrivania/envfacebook/lib/python3.8/site-packages (from requests->facebook-sdk) (1.25.11)\n",
      "Requirement already satisfied: idna<3,>=2.5 in /home/riccardo/Scrivania/envfacebook/lib/python3.8/site-packages (from requests->facebook-sdk) (2.10)\n",
      "Requirement already satisfied: chardet<4,>=3.0.2 in /home/riccardo/Scrivania/envfacebook/lib/python3.8/site-packages (from requests->facebook-sdk) (3.0.4)\n",
      "Requirement already satisfied: certifi>=2017.4.17 in /home/riccardo/Scrivania/envfacebook/lib/python3.8/site-packages (from requests->facebook-sdk) (2020.6.20)\n"
     ]
    }
   ],
   "source": [
    "!pip3 install facebook-sdk\n",
    "\n",
    "import urllib3, facebook,requests"
   ]
  },
  {
   "cell_type": "code",
   "execution_count": 11,
   "metadata": {},
   "outputs": [
    {
     "ename": "SyntaxError",
     "evalue": "invalid syntax (<ipython-input-11-57665af91b4e>, line 6)",
     "output_type": "error",
     "traceback": [
      "\u001b[0;36m  File \u001b[0;32m\"<ipython-input-11-57665af91b4e>\"\u001b[0;36m, line \u001b[0;32m6\u001b[0m\n\u001b[0;31m    comments =graph.search.(\"pizza\")\u001b[0m\n\u001b[0m                           ^\u001b[0m\n\u001b[0;31mSyntaxError\u001b[0m\u001b[0;31m:\u001b[0m invalid syntax\n"
     ]
    }
   ],
   "source": [
    "import json\n",
    "\n",
    "def main():\n",
    "    token = \"345337870076487|7yqEhZoni8gpeXns3odCgM4SS4g\"\n",
    "    graph = facebook.GraphAPI(token)\n",
    "    comments =graph.search(\"pizza\")\n",
    "    print(comments)\n",
    "if __name__ ==\"__main__\":\n",
    "    main()"
   ]
  },
  {
   "cell_type": "code",
   "execution_count": null,
   "metadata": {},
   "outputs": [],
   "source": []
  }
 ],
 "metadata": {
  "kernelspec": {
   "display_name": "Python 3",
   "language": "python",
   "name": "python3"
  },
  "language_info": {
   "codemirror_mode": {
    "name": "ipython",
    "version": 3
   },
   "file_extension": ".py",
   "mimetype": "text/x-python",
   "name": "python",
   "nbconvert_exporter": "python",
   "pygments_lexer": "ipython3",
   "version": "3.8.5"
  }
 },
 "nbformat": 4,
 "nbformat_minor": 4
}
