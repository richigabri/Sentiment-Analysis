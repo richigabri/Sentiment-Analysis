{
 "cells": [
  {
   "cell_type": "code",
   "execution_count": 15,
   "metadata": {},
   "outputs": [],
   "source": [
    "from googlesearch import search\n",
    "\n",
    "import urllib"
   ]
  },
  {
   "cell_type": "code",
   "execution_count": 28,
   "metadata": {},
   "outputs": [
    {
     "name": "stdout",
     "output_type": "stream",
     "text": [
      "https://www.assiteca.it/\n",
      "https://www.paginegialle.it/milano-mi/assicurazioni/assiteca\n",
      "https://www.reportaziende.it/assiteca_spa_internazionale_di_brokeraggio_assicurativo\n"
     ]
    }
   ],
   "source": [
    "for i in search(query,        # The query you want to run\n",
    "                #tld = 'com',  # The top level domain\n",
    "                lang = 'it',  # The language\n",
    "                num = 3,     # Number of results per page\n",
    "                #start = 0,    # First result to retrieve\n",
    "                stop = 3,  # Last result to retrieve \n",
    "                pause =3.0,  # Lapse between HTTP requests\n",
    "               ):\n",
    "    my_results_list.append(i)\n",
    "    print(i)\n",
    "    \n"
   ]
  },
  {
   "cell_type": "code",
   "execution_count": 26,
   "metadata": {},
   "outputs": [
    {
     "name": "stdout",
     "output_type": "stream",
     "text": [
      "[]\n"
     ]
    }
   ],
   "source": [
    "import urllib\n",
    "import html2text\n",
    "from bs4 import BeautifulSoup,NavigableString\n",
    "soup = BeautifulSoup( urllib.request.urlopen('https://www.assiteca.it').read())\n",
    "txt = soup.find('div','class','body')\n",
    "#print(txt)\n",
    "#print (soup.get_text().replace('\\r\\n',' '))\n",
    "soup = soup.get_text().replace('\\r\\n',' ')\n",
    "soup =soup.replace('\\n',' ')\n",
    "soup =soup.replace('\\t','')\n",
    "#print (soup)\n",
    "#print (soup.get_text().find('\\r'))\n",
    "rens  = soup.split()\n",
    "print(\"numero di parole:\",len(soup.split()))\n",
    "print(\"numero di occorenze:\",rens.count(\"Assiteca\"))\n",
    "\n"
   ]
  },
  {
   "cell_type": "code",
   "execution_count": null,
   "metadata": {},
   "outputs": [],
   "source": []
  },
  {
   "cell_type": "markdown",
   "metadata": {},
   "source": [
    "Trasfromazione da html a text senza la rimozione delle stopword, la percentuale della presenza delle parole chiave è minore "
   ]
  },
  {
   "cell_type": "code",
   "execution_count": 20,
   "metadata": {},
   "outputs": [
    {
     "name": "stdout",
     "output_type": "stream",
     "text": [
      "assiteca - il più grande broker assicurativo italiano\n",
      "menu\n",
      "chi siamo\n",
      "perché sceglierci\n",
      "servizi di consulenza\n",
      "rischi operativi\n",
      "rischi compliance\n",
      "rischi finanziari\n",
      "rischi strategici\n",
      "soluzioni assicurative\n",
      "soluzioni assicurative per i rischi operativi\n",
      "soluzioni assicurative per i rischi compliance\n",
      "soluzioni assicurative per i rischi finanziari\n",
      "soluzioni assicurative per i rischi strategici\n",
      "divisioni\n",
      "tecnica\n",
      "trasporti\n",
      "motor\n",
      "insurtech\n",
      "assiteca agricoltura\n",
      "energie rinnovabili\n",
      "crediti commerciali\n",
      "enti pubblici\n",
      "sanità\n",
      "employee benefit e welfare\n",
      "affinity e small business\n",
      "internazionale\n",
      "costruzioni e infrastrutture\n",
      "cauzioni e fideiussioni\n",
      "academy e iniziative\n",
      "blog\n",
      "investor relations\n",
      "stampa\n",
      "contatti\n",
      "l’unica realtà di servizi professionali creata per assistere le aziende nella gestione integrata dei rischi d’impresa\n",
      "gestione online clienti\n",
      "assiteca academy\n",
      "clicca e scopri\n",
      "report di sostenibilità\n",
      "clicca e scopri\n",
      "scarica la app assiteca per la gestione dei sinistri\n",
      "clicca e scopri\n",
      "assiteca primo broker assicurativo italiano quotato in borsa\n",
      "clicca e scopri\n",
      "contattaci\n",
      "clicca e scopri\n",
      "blog\n",
      "clicca e scopri\n",
      "chi siamoassiteca è il più grande broker assicurativo italiano. dal luglio 2015 è il primo broker quotato alla borsa italiana - segmento aim italia.\n",
      "continua\n",
      "perché\n",
      "assitecaassiteca arricchisce l’attività tradizionale di brokeraggio assicurativo con specifici servizi di consulenza\n",
      "continua\n",
      "le nostre soluzioni prodotti esclusivi e innovativi, divisioni specialistiche con competenze specifiche in particolari aree di rischio.\n",
      "continua\n",
      "leggi il blogscopri le ultime news e gli approfondimenti dedicati alla gestione del rischio\n",
      "continua\n",
      "assiteca è il primo gruppo italiano nel mercato del brokeraggio assicurativo\n",
      "e nella consulenza sulla gestione del rischio\n",
      "le nostre divisioni speciali\n",
      "affinity e small business\n",
      "assiteca agricoltura\n",
      "cauzioni e fideiussioni\n",
      "crediti commerciali\n",
      "employee benefits\n",
      "energie rinnovabili\n",
      "internazionale\n",
      "pubblica amministrazione\n",
      "costruzioni e infrastrutture\n",
      "tecnica\n",
      "trasporti\n",
      "motor\n",
      "responsabilità sociale\n",
      "l'attenzione nei confronti della collettività, della cultura, del territorio e del sociale caratterizza da sempre l'attività di assiteca. un comportamento equo e giusto, che tenga conto dell'impatto che le decisioni e le strategie adottate …\n",
      "read more\n",
      "servizi di consulenza\n",
      "offrire una gestione integrata dei rischi attraverso una metodologia di lavoro che coniuga consulenza e intermediazione assicurativa consente di  costruire un efficace sistema di controllo utile a prevenire, mitigare e proteggere l'azienda.i …\n",
      "read more\n",
      "soluzioni assicurative\n",
      "read more\n",
      "assiteca spa\n",
      "palazzo assiteca\n",
      "via g. sigieri 14 – 20135 milano\n",
      "tel. 02.54679.1 – fax 02.54679.350\n",
      "p.iva/codice fiscale e numero d’iscrizione: it 09743130156 del registro delle imprese di milano\n",
      "iscritta con il numero repertorio economico amministrativo 1313138\n",
      "capitale sociale € 7.617.193,51 i.v. iscritta al r.u.i. sezione b n. 114899 del 16/04/2007\n",
      "copyright © 2004-2020 assiteca spa\n",
      "dove siamo: tutti gli indirizzi\n",
      "contatti\n",
      "il codice delle assicurazioni\n",
      "dati societari\n",
      "data protection policy\n",
      "cookie policy\n",
      "segnala un reclamo\n",
      "utilizziamo i cookie per essere sicuri che tu possa avere la migliore esperienza sul nostro sito. puoi consultare la nostra policy sull'utilizzo dei cookie in qualsiasi momento cliccando sul bottone qui sotto o nel footer del sito, dove troverai anche le istruzioni per disattivarli.\n",
      "utilizamos cookies propias y de terceros para analizar nuestros servicios y mostrarte publicidad relacionados con tus preferencias, en base a un perfil elaborado a partir de tus hábitos de navegación. puedes obtener más información de la política de cookies aquí.\n",
      "okno - refusecookie policy\n",
      "numero di parole: 511\n",
      "numero di occorenze: 14\n",
      "percentuale: 2.73972602739726\n"
     ]
    }
   ],
   "source": [
    "#DA TENERE PER LA TRAFROMAZIONE DA HTML DA TEXT\n",
    "\n",
    "from urllib.request import urlopen\n",
    "from bs4 import BeautifulSoup\n",
    "\n",
    "url = \"https://www.assiteca.it/\"\n",
    "html = urlopen(url).read()\n",
    "soup = BeautifulSoup(html, features=\"html.parser\")\n",
    "\n",
    "# kill all script and style elements\n",
    "for script in soup([\"script\", \"style\"]):\n",
    "    script.extract()    # rip it out\n",
    "\n",
    "# get text\n",
    "text = soup.get_text()\n",
    "\n",
    "# break into lines and remove leading and trailing space on each\n",
    "lines = (line.strip() for line in text.splitlines())\n",
    "# break multi-headlines into a line each\n",
    "chunks = (phrase.strip() for line in lines for phrase in line.split(\"  \"))\n",
    "# drop blank lines\n",
    "text = '\\n'.join(chunk for chunk in chunks if chunk)\n",
    "text=text.lower()\n",
    "print(text)\n",
    "\n",
    "#conteggio parole e parole chiave con la valutazione della pertinenza \n",
    "totale_parole = len(text.split())\n",
    "totale_key = text.count(\"assiteca\")\n",
    "print(\"numero di parole:\",totale_parole)\n",
    "print(\"numero di occorenze:\",totale_key)\n",
    "\n",
    "print(\"percentuale:\",(totale_key / totale_parole)*100)"
   ]
  },
  {
   "cell_type": "markdown",
   "metadata": {},
   "source": [
    "PROBLEMA : essendoci parole attaccate se splitto e poi faccio in conteggio non vengono contate se invce lo faccio sul testo trovo piu parole ma non sempre correte"
   ]
  },
  {
   "cell_type": "markdown",
   "metadata": {},
   "source": [
    "ASSUNIONE: essendo che le parole chiave si riferiscono ad Aziende è difficile che una parola esistente sia composta dal nome dell'azienda "
   ]
  },
  {
   "cell_type": "markdown",
   "metadata": {},
   "source": [
    "Rimozione delle stopword per migliorare la rilevanza del testo rispetto alle parole chiavi "
   ]
  },
  {
   "cell_type": "markdown",
   "metadata": {},
   "source": [
    "NOTA: SI PUÒ UTILIZZARE TESTO SENZA STOP WORD???? PERCHE VENGONO ELIMINATE NEGAZIONI  "
   ]
  },
  {
   "cell_type": "code",
   "execution_count": 30,
   "metadata": {},
   "outputs": [
    {
     "ename": "NameError",
     "evalue": "name 'nltk' is not defined",
     "output_type": "error",
     "traceback": [
      "\u001b[0;31m---------------------------------------------------------------------------\u001b[0m",
      "\u001b[0;31mNameError\u001b[0m                                 Traceback (most recent call last)",
      "\u001b[0;32m<ipython-input-30-8c7ba7b8f194>\u001b[0m in \u001b[0;36m<module>\u001b[0;34m\u001b[0m\n\u001b[1;32m      2\u001b[0m \u001b[0;34m\u001b[0m\u001b[0m\n\u001b[1;32m      3\u001b[0m \u001b[0;32mfrom\u001b[0m \u001b[0mnltk\u001b[0m\u001b[0;34m.\u001b[0m\u001b[0mcorpus\u001b[0m \u001b[0;32mimport\u001b[0m \u001b[0mstopwords\u001b[0m\u001b[0;34m\u001b[0m\u001b[0;34m\u001b[0m\u001b[0m\n\u001b[0;32m----> 4\u001b[0;31m \u001b[0mnltk\u001b[0m\u001b[0;34m.\u001b[0m\u001b[0mdownload\u001b[0m\u001b[0;34m(\u001b[0m\u001b[0;34m'stopwords'\u001b[0m\u001b[0;34m)\u001b[0m\u001b[0;34m\u001b[0m\u001b[0;34m\u001b[0m\u001b[0m\n\u001b[0m\u001b[1;32m      5\u001b[0m \u001b[0;32mfrom\u001b[0m \u001b[0mnltk\u001b[0m\u001b[0;34m.\u001b[0m\u001b[0mcorpus\u001b[0m \u001b[0;32mimport\u001b[0m \u001b[0mstopwords\u001b[0m\u001b[0;34m\u001b[0m\u001b[0;34m\u001b[0m\u001b[0m\n\u001b[1;32m      6\u001b[0m \u001b[0;31m#print(stopwords.words('italian'))\u001b[0m\u001b[0;34m\u001b[0m\u001b[0;34m\u001b[0m\u001b[0;34m\u001b[0m\u001b[0m\n",
      "\u001b[0;31mNameError\u001b[0m: name 'nltk' is not defined"
     ]
    }
   ],
   "source": [
    "#REMOZIONE DELLE STOP WORDS\n",
    "\n",
    "from nltk.corpus import stopwords\n",
    "nltk.download('stopwords')\n",
    "from nltk.corpus import stopwords\n",
    "#print(stopwords.words('italian'))\n",
    "text_tokens = text.split()\n",
    "tokens_without_sw = [word for word in text_tokens if not word in stopwords.words()]\n",
    "\n",
    "print(tokens_without_sw)\n",
    "\n",
    "#riporto il testo normale senza stop word\n",
    "filtered_sentence = (\" \").join(tokens_without_sw)\n",
    "print(filtered_sentence)\n",
    "totale_parole = len(filtered_sentence.split())\n",
    "totale_key = filtered_sentence.count(\"assiteca\")\n",
    "print(\"numero di parole:\",totale_parole)\n",
    "print(\"numero di occorenze:\",totale_key)\n",
    "\n",
    "print(\"percentuale:\",(totale_key / totale_parole)*100)"
   ]
  },
  {
   "cell_type": "code",
   "execution_count": 64,
   "metadata": {},
   "outputs": [
    {
     "name": "stdout",
     "output_type": "stream",
     "text": [
      "['Ciao', 'mi,', 'chiamo', 'riccardo']\n"
     ]
    }
   ],
   "source": [
    "str=\"Ciao mi, chiamo riccardo\"\n",
    "\n",
    "str1 = str.split()\n",
    "print(str1)"
   ]
  },
  {
   "cell_type": "code",
   "execution_count": 32,
   "metadata": {},
   "outputs": [
    {
     "ename": "NameError",
     "evalue": "name 'nltk' is not defined",
     "output_type": "error",
     "traceback": [
      "\u001b[0;31m---------------------------------------------------------------------------\u001b[0m",
      "\u001b[0;31mNameError\u001b[0m                                 Traceback (most recent call last)",
      "\u001b[0;32m<ipython-input-32-25bf5c57b455>\u001b[0m in \u001b[0;36m<module>\u001b[0;34m\u001b[0m\n\u001b[1;32m      1\u001b[0m \u001b[0;32mfrom\u001b[0m \u001b[0mnltk\u001b[0m\u001b[0;34m.\u001b[0m\u001b[0mcorpus\u001b[0m \u001b[0;32mimport\u001b[0m \u001b[0mstopwords\u001b[0m\u001b[0;34m\u001b[0m\u001b[0;34m\u001b[0m\u001b[0m\n\u001b[0;32m----> 2\u001b[0;31m \u001b[0mnltk\u001b[0m\u001b[0;34m.\u001b[0m\u001b[0mdownload\u001b[0m\u001b[0;34m(\u001b[0m\u001b[0;34m'stopwords'\u001b[0m\u001b[0;34m)\u001b[0m\u001b[0;34m\u001b[0m\u001b[0;34m\u001b[0m\u001b[0m\n\u001b[0m",
      "\u001b[0;31mNameError\u001b[0m: name 'nltk' is not defined"
     ]
    }
   ],
   "source": [
    "from nltk.corpus import stopwords\n",
    "import nltk\n",
    "nltk.download('stopwords')"
   ]
  },
  {
   "cell_type": "code",
   "execution_count": null,
   "metadata": {},
   "outputs": [],
   "source": []
  }
 ],
 "metadata": {
  "kernelspec": {
   "display_name": "Python 3",
   "language": "python",
   "name": "python3"
  },
  "language_info": {
   "codemirror_mode": {
    "name": "ipython",
    "version": 3
   },
   "file_extension": ".py",
   "mimetype": "text/x-python",
   "name": "python",
   "nbconvert_exporter": "python",
   "pygments_lexer": "ipython3",
   "version": "3.8.5"
  }
 },
 "nbformat": 4,
 "nbformat_minor": 4
}
